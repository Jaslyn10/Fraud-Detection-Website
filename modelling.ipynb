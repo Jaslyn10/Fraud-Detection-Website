{
 "cells": [
  {
   "cell_type": "code",
   "execution_count": 1,
   "id": "73a5d727",
   "metadata": {
    "execution": {
     "iopub.execute_input": "2022-07-17T05:18:42.993604Z",
     "iopub.status.busy": "2022-07-17T05:18:42.993264Z",
     "iopub.status.idle": "2022-07-17T05:18:56.381020Z",
     "shell.execute_reply": "2022-07-17T05:18:56.379833Z"
    },
    "papermill": {
     "duration": 13.398243,
     "end_time": "2022-07-17T05:18:56.383361",
     "exception": false,
     "start_time": "2022-07-17T05:18:42.985118",
     "status": "completed"
    },
    "tags": []
   },
   "outputs": [
    {
     "data": {
      "text/plain": [
       "Unnamed: 0               0\n",
       "trans_date_trans_time    0\n",
       "cc_num                   0\n",
       "merchant                 0\n",
       "category                 0\n",
       "amt                      0\n",
       "first                    0\n",
       "last                     0\n",
       "gender                   0\n",
       "street                   0\n",
       "city                     0\n",
       "state                    0\n",
       "zip                      0\n",
       "lat                      0\n",
       "long                     0\n",
       "city_pop                 0\n",
       "job                      0\n",
       "dob                      0\n",
       "trans_num                0\n",
       "unix_time                0\n",
       "merch_lat                0\n",
       "merch_long               0\n",
       "is_fraud                 0\n",
       "dtype: int64"
      ]
     },
     "execution_count": 1,
     "metadata": {},
     "output_type": "execute_result"
    }
   ],
   "source": [
    "import matplotlib.pyplot as plt\n",
    "import matplotlib.ticker as mtick\n",
    "import numpy as np\n",
    "import pandas as pd\n",
    "import plotly.express as px\n",
    "import seaborn as sns\n",
    "\n",
    "sns.set(rc={\"figure.figsize\": (15, 8)})\n",
    "df = pd.read_csv(\"./datasets/fraudTrain.csv\")\n",
    "df.isna().sum()"
   ]
  },
  {
   "cell_type": "code",
   "execution_count": 2,
   "id": "7a544af3",
   "metadata": {
    "execution": {
     "iopub.execute_input": "2022-07-17T05:18:56.400210Z",
     "iopub.status.busy": "2022-07-17T05:18:56.399788Z",
     "iopub.status.idle": "2022-07-17T05:18:59.961705Z",
     "shell.execute_reply": "2022-07-17T05:18:59.960654Z"
    },
    "papermill": {
     "duration": 3.573265,
     "end_time": "2022-07-17T05:18:59.964210",
     "exception": false,
     "start_time": "2022-07-17T05:18:56.390945",
     "status": "completed"
    },
    "tags": []
   },
   "outputs": [],
   "source": [
    "df.drop_duplicates(inplace=True)"
   ]
  },
  {
   "cell_type": "code",
   "execution_count": 3,
   "id": "baaf502d",
   "metadata": {},
   "outputs": [
    {
     "data": {
      "text/html": [
       "<div>\n",
       "<style scoped>\n",
       "    .dataframe tbody tr th:only-of-type {\n",
       "        vertical-align: middle;\n",
       "    }\n",
       "\n",
       "    .dataframe tbody tr th {\n",
       "        vertical-align: top;\n",
       "    }\n",
       "\n",
       "    .dataframe thead th {\n",
       "        text-align: right;\n",
       "    }\n",
       "</style>\n",
       "<table border=\"1\" class=\"dataframe\">\n",
       "  <thead>\n",
       "    <tr style=\"text-align: right;\">\n",
       "      <th></th>\n",
       "      <th>Unnamed: 0</th>\n",
       "      <th>trans_date_trans_time</th>\n",
       "      <th>cc_num</th>\n",
       "      <th>merchant</th>\n",
       "      <th>category</th>\n",
       "      <th>amt</th>\n",
       "      <th>first</th>\n",
       "      <th>last</th>\n",
       "      <th>gender</th>\n",
       "      <th>street</th>\n",
       "      <th>...</th>\n",
       "      <th>lat</th>\n",
       "      <th>long</th>\n",
       "      <th>city_pop</th>\n",
       "      <th>job</th>\n",
       "      <th>dob</th>\n",
       "      <th>trans_num</th>\n",
       "      <th>unix_time</th>\n",
       "      <th>merch_lat</th>\n",
       "      <th>merch_long</th>\n",
       "      <th>is_fraud</th>\n",
       "    </tr>\n",
       "  </thead>\n",
       "  <tbody>\n",
       "    <tr>\n",
       "      <th>0</th>\n",
       "      <td>0</td>\n",
       "      <td>2019-01-01 00:00:18</td>\n",
       "      <td>2703186189652095</td>\n",
       "      <td>fraud_Rippin, Kub and Mann</td>\n",
       "      <td>misc_net</td>\n",
       "      <td>4.97</td>\n",
       "      <td>Jennifer</td>\n",
       "      <td>Banks</td>\n",
       "      <td>F</td>\n",
       "      <td>561 Perry Cove</td>\n",
       "      <td>...</td>\n",
       "      <td>36.0788</td>\n",
       "      <td>-81.1781</td>\n",
       "      <td>3495</td>\n",
       "      <td>Psychologist, counselling</td>\n",
       "      <td>1988-03-09</td>\n",
       "      <td>0b242abb623afc578575680df30655b9</td>\n",
       "      <td>1325376018</td>\n",
       "      <td>36.011293</td>\n",
       "      <td>-82.048315</td>\n",
       "      <td>0</td>\n",
       "    </tr>\n",
       "    <tr>\n",
       "      <th>1</th>\n",
       "      <td>1</td>\n",
       "      <td>2019-01-01 00:00:44</td>\n",
       "      <td>630423337322</td>\n",
       "      <td>fraud_Heller, Gutmann and Zieme</td>\n",
       "      <td>grocery_pos</td>\n",
       "      <td>107.23</td>\n",
       "      <td>Stephanie</td>\n",
       "      <td>Gill</td>\n",
       "      <td>F</td>\n",
       "      <td>43039 Riley Greens Suite 393</td>\n",
       "      <td>...</td>\n",
       "      <td>48.8878</td>\n",
       "      <td>-118.2105</td>\n",
       "      <td>149</td>\n",
       "      <td>Special educational needs teacher</td>\n",
       "      <td>1978-06-21</td>\n",
       "      <td>1f76529f8574734946361c461b024d99</td>\n",
       "      <td>1325376044</td>\n",
       "      <td>49.159047</td>\n",
       "      <td>-118.186462</td>\n",
       "      <td>0</td>\n",
       "    </tr>\n",
       "    <tr>\n",
       "      <th>2</th>\n",
       "      <td>2</td>\n",
       "      <td>2019-01-01 00:00:51</td>\n",
       "      <td>38859492057661</td>\n",
       "      <td>fraud_Lind-Buckridge</td>\n",
       "      <td>entertainment</td>\n",
       "      <td>220.11</td>\n",
       "      <td>Edward</td>\n",
       "      <td>Sanchez</td>\n",
       "      <td>M</td>\n",
       "      <td>594 White Dale Suite 530</td>\n",
       "      <td>...</td>\n",
       "      <td>42.1808</td>\n",
       "      <td>-112.2620</td>\n",
       "      <td>4154</td>\n",
       "      <td>Nature conservation officer</td>\n",
       "      <td>1962-01-19</td>\n",
       "      <td>a1a22d70485983eac12b5b88dad1cf95</td>\n",
       "      <td>1325376051</td>\n",
       "      <td>43.150704</td>\n",
       "      <td>-112.154481</td>\n",
       "      <td>0</td>\n",
       "    </tr>\n",
       "    <tr>\n",
       "      <th>3</th>\n",
       "      <td>3</td>\n",
       "      <td>2019-01-01 00:01:16</td>\n",
       "      <td>3534093764340240</td>\n",
       "      <td>fraud_Kutch, Hermiston and Farrell</td>\n",
       "      <td>gas_transport</td>\n",
       "      <td>45.00</td>\n",
       "      <td>Jeremy</td>\n",
       "      <td>White</td>\n",
       "      <td>M</td>\n",
       "      <td>9443 Cynthia Court Apt. 038</td>\n",
       "      <td>...</td>\n",
       "      <td>46.2306</td>\n",
       "      <td>-112.1138</td>\n",
       "      <td>1939</td>\n",
       "      <td>Patent attorney</td>\n",
       "      <td>1967-01-12</td>\n",
       "      <td>6b849c168bdad6f867558c3793159a81</td>\n",
       "      <td>1325376076</td>\n",
       "      <td>47.034331</td>\n",
       "      <td>-112.561071</td>\n",
       "      <td>0</td>\n",
       "    </tr>\n",
       "    <tr>\n",
       "      <th>4</th>\n",
       "      <td>4</td>\n",
       "      <td>2019-01-01 00:03:06</td>\n",
       "      <td>375534208663984</td>\n",
       "      <td>fraud_Keeling-Crist</td>\n",
       "      <td>misc_pos</td>\n",
       "      <td>41.96</td>\n",
       "      <td>Tyler</td>\n",
       "      <td>Garcia</td>\n",
       "      <td>M</td>\n",
       "      <td>408 Bradley Rest</td>\n",
       "      <td>...</td>\n",
       "      <td>38.4207</td>\n",
       "      <td>-79.4629</td>\n",
       "      <td>99</td>\n",
       "      <td>Dance movement psychotherapist</td>\n",
       "      <td>1986-03-28</td>\n",
       "      <td>a41d7549acf90789359a9aa5346dcb46</td>\n",
       "      <td>1325376186</td>\n",
       "      <td>38.674999</td>\n",
       "      <td>-78.632459</td>\n",
       "      <td>0</td>\n",
       "    </tr>\n",
       "  </tbody>\n",
       "</table>\n",
       "<p>5 rows × 23 columns</p>\n",
       "</div>"
      ],
      "text/plain": [
       "   Unnamed: 0 trans_date_trans_time            cc_num  \\\n",
       "0           0   2019-01-01 00:00:18  2703186189652095   \n",
       "1           1   2019-01-01 00:00:44      630423337322   \n",
       "2           2   2019-01-01 00:00:51    38859492057661   \n",
       "3           3   2019-01-01 00:01:16  3534093764340240   \n",
       "4           4   2019-01-01 00:03:06   375534208663984   \n",
       "\n",
       "                             merchant       category     amt      first  \\\n",
       "0          fraud_Rippin, Kub and Mann       misc_net    4.97   Jennifer   \n",
       "1     fraud_Heller, Gutmann and Zieme    grocery_pos  107.23  Stephanie   \n",
       "2                fraud_Lind-Buckridge  entertainment  220.11     Edward   \n",
       "3  fraud_Kutch, Hermiston and Farrell  gas_transport   45.00     Jeremy   \n",
       "4                 fraud_Keeling-Crist       misc_pos   41.96      Tyler   \n",
       "\n",
       "      last gender                        street  ...      lat      long  \\\n",
       "0    Banks      F                561 Perry Cove  ...  36.0788  -81.1781   \n",
       "1     Gill      F  43039 Riley Greens Suite 393  ...  48.8878 -118.2105   \n",
       "2  Sanchez      M      594 White Dale Suite 530  ...  42.1808 -112.2620   \n",
       "3    White      M   9443 Cynthia Court Apt. 038  ...  46.2306 -112.1138   \n",
       "4   Garcia      M              408 Bradley Rest  ...  38.4207  -79.4629   \n",
       "\n",
       "   city_pop                                job         dob  \\\n",
       "0      3495          Psychologist, counselling  1988-03-09   \n",
       "1       149  Special educational needs teacher  1978-06-21   \n",
       "2      4154        Nature conservation officer  1962-01-19   \n",
       "3      1939                    Patent attorney  1967-01-12   \n",
       "4        99     Dance movement psychotherapist  1986-03-28   \n",
       "\n",
       "                          trans_num   unix_time  merch_lat  merch_long  \\\n",
       "0  0b242abb623afc578575680df30655b9  1325376018  36.011293  -82.048315   \n",
       "1  1f76529f8574734946361c461b024d99  1325376044  49.159047 -118.186462   \n",
       "2  a1a22d70485983eac12b5b88dad1cf95  1325376051  43.150704 -112.154481   \n",
       "3  6b849c168bdad6f867558c3793159a81  1325376076  47.034331 -112.561071   \n",
       "4  a41d7549acf90789359a9aa5346dcb46  1325376186  38.674999  -78.632459   \n",
       "\n",
       "   is_fraud  \n",
       "0         0  \n",
       "1         0  \n",
       "2         0  \n",
       "3         0  \n",
       "4         0  \n",
       "\n",
       "[5 rows x 23 columns]"
      ]
     },
     "execution_count": 3,
     "metadata": {},
     "output_type": "execute_result"
    }
   ],
   "source": [
    "df.head()"
   ]
  },
  {
   "cell_type": "code",
   "execution_count": 2,
   "id": "f3038e4b",
   "metadata": {
    "execution": {
     "iopub.execute_input": "2022-07-17T05:19:14.350420Z",
     "iopub.status.busy": "2022-07-17T05:19:14.350029Z",
     "iopub.status.idle": "2022-07-17T05:19:15.062567Z",
     "shell.execute_reply": "2022-07-17T05:19:15.061669Z"
    },
    "papermill": {
     "duration": 0.728546,
     "end_time": "2022-07-17T05:19:15.065000",
     "exception": false,
     "start_time": "2022-07-17T05:19:14.336454",
     "status": "completed"
    },
    "tags": []
   },
   "outputs": [],
   "source": [
    "import datetime as dt\n",
    "\n",
    "df[\"age\"] = dt.date.today().year - pd.to_datetime(df[\"dob\"]).dt.year\n",
    "df[\"hour\"] = pd.to_datetime(df[\"trans_date_trans_time\"]).dt.hour\n",
    "df[\"day\"] = pd.to_datetime(df[\"trans_date_trans_time\"]).dt.dayofweek\n",
    "df[\"month\"] = pd.to_datetime(df[\"trans_date_trans_time\"]).dt.month\n",
    "\n",
    "# subset the training data to include only the features that we need\n",
    "train = df[\n",
    "    [\n",
    "        \"category\",\n",
    "        \"amt\",\n",
    "        \"zip\",\n",
    "        \"lat\",\n",
    "        \"long\",\n",
    "        \"city_pop\",\n",
    "        \"merch_lat\",\n",
    "        \"merch_long\",\n",
    "        \"age\",\n",
    "        \"hour\",\n",
    "        \"day\",\n",
    "        \"month\",\n",
    "        \"is_fraud\",\n",
    "    ]\n",
    "]\n",
    "# convert category to dummy variables\n",
    "train = pd.get_dummies(train, drop_first=True)\n",
    "y_train = train[\"is_fraud\"].values\n",
    "X_train = train.drop(\"is_fraud\", axis=\"columns\").values"
   ]
  },
  {
   "cell_type": "code",
   "execution_count": 3,
   "id": "44d7f0eb",
   "metadata": {
    "execution": {
     "iopub.execute_input": "2022-07-17T05:19:15.091380Z",
     "iopub.status.busy": "2022-07-17T05:19:15.090989Z",
     "iopub.status.idle": "2022-07-17T05:19:20.205153Z",
     "shell.execute_reply": "2022-07-17T05:19:20.203893Z"
    },
    "papermill": {
     "duration": 5.130622,
     "end_time": "2022-07-17T05:19:20.207817",
     "exception": false,
     "start_time": "2022-07-17T05:19:15.077195",
     "status": "completed"
    },
    "tags": []
   },
   "outputs": [],
   "source": [
    "# let's do the same to the testing dataset\n",
    "test = pd.read_csv(\"./datasets/fraudTest.csv\")\n",
    "test[\"age\"] = dt.date.today().year - pd.to_datetime(test[\"dob\"]).dt.year\n",
    "test[\"hour\"] = pd.to_datetime(test[\"trans_date_trans_time\"]).dt.hour\n",
    "test[\"day\"] = pd.to_datetime(test[\"trans_date_trans_time\"]).dt.dayofweek\n",
    "test[\"month\"] = pd.to_datetime(test[\"trans_date_trans_time\"]).dt.month\n",
    "test = test[\n",
    "    [\n",
    "        \"category\",\n",
    "        \"amt\",\n",
    "        \"zip\",\n",
    "        \"lat\",\n",
    "        \"long\",\n",
    "        \"city_pop\",\n",
    "        \"merch_lat\",\n",
    "        \"merch_long\",\n",
    "        \"age\",\n",
    "        \"hour\",\n",
    "        \"day\",\n",
    "        \"month\",\n",
    "        \"is_fraud\",\n",
    "    ]\n",
    "]\n",
    "# convert category to dummy variables\n",
    "test = pd.get_dummies(test, drop_first=True)\n",
    "y_test = test[\"is_fraud\"].values\n",
    "X_test = test.drop(\"is_fraud\", axis=\"columns\").values"
   ]
  },
  {
   "cell_type": "code",
   "execution_count": 6,
   "id": "0a37a23b",
   "metadata": {
    "execution": {
     "iopub.execute_input": "2022-07-17T05:19:20.259642Z",
     "iopub.status.busy": "2022-07-17T05:19:20.259277Z",
     "iopub.status.idle": "2022-07-17T05:19:45.351994Z",
     "shell.execute_reply": "2022-07-17T05:19:45.350861Z"
    },
    "papermill": {
     "duration": 25.112981,
     "end_time": "2022-07-17T05:19:45.358336",
     "exception": false,
     "start_time": "2022-07-17T05:19:20.245355",
     "status": "completed"
    },
    "tags": []
   },
   "outputs": [
    {
     "name": "stdout",
     "output_type": "stream",
     "text": [
      "Classification report:\n",
      "               precision    recall  f1-score   support\n",
      "\n",
      "           0       1.00      0.95      0.97    553574\n",
      "           1       0.05      0.75      0.10      2145\n",
      "\n",
      "    accuracy                           0.95    555719\n",
      "   macro avg       0.53      0.85      0.54    555719\n",
      "weighted avg       1.00      0.95      0.97    555719\n",
      "\n",
      "Confusion matrix:\n",
      " [[524660  28914]\n",
      " [   534   1611]]\n",
      "Share of Non-Fraud in Test Data: 0.9961\n"
     ]
    }
   ],
   "source": [
    "# logistic regression\n",
    "from imblearn.over_sampling import SMOTE\n",
    "from sklearn.linear_model import LogisticRegression\n",
    "from sklearn.metrics import classification_report, confusion_matrix\n",
    "from sklearn.model_selection import train_test_split\n",
    "\n",
    "method = SMOTE()\n",
    "X_resampled, y_resampled = method.fit_resample(X_train, y_train)\n",
    "model = LogisticRegression()\n",
    "model.fit(X_resampled, y_resampled)\n",
    "predicted = model.predict(X_test)\n",
    "print(\"Classification report:\\n\", classification_report(y_test, predicted))\n",
    "conf_mat = confusion_matrix(y_true=y_test, y_pred=predicted)\n",
    "print(\"Confusion matrix:\\n\", conf_mat)\n",
    "print(\"Share of Non-Fraud in Test Data:\", 1 - round(y_test.sum() / len(y_test), 4))"
   ]
  },
  {
   "cell_type": "code",
   "execution_count": 8,
   "id": "f65d3020",
   "metadata": {},
   "outputs": [],
   "source": [
    "import pickle\n",
    "\n",
    "with open(\"model_regression.pkl\", \"wb\") as file:\n",
    "    pickle.dump(model, file)"
   ]
  },
  {
   "cell_type": "code",
   "execution_count": 7,
   "id": "88c4c7a8",
   "metadata": {
    "execution": {
     "iopub.execute_input": "2022-07-17T05:19:45.413810Z",
     "iopub.status.busy": "2022-07-17T05:19:45.412793Z",
     "iopub.status.idle": "2022-07-17T05:33:23.758391Z",
     "shell.execute_reply": "2022-07-17T05:33:23.757118Z"
    },
    "papermill": {
     "duration": 818.378098,
     "end_time": "2022-07-17T05:33:23.776579",
     "exception": false,
     "start_time": "2022-07-17T05:19:45.398481",
     "status": "completed"
    },
    "tags": []
   },
   "outputs": [
    {
     "name": "stdout",
     "output_type": "stream",
     "text": [
      "Classification report:\n",
      "               precision    recall  f1-score   support\n",
      "\n",
      "           0       1.00      1.00      1.00    553574\n",
      "           1       0.89      0.72      0.80      2145\n",
      "\n",
      "    accuracy                           1.00    555719\n",
      "   macro avg       0.94      0.86      0.90    555719\n",
      "weighted avg       1.00      1.00      1.00    555719\n",
      "\n",
      "Confusion matrix:\n",
      " [[553381    193]\n",
      " [   593   1552]]\n",
      "Share of Non-Fraud in Test Data: 0.9961\n"
     ]
    }
   ],
   "source": [
    "# random forest\n",
    "from sklearn.ensemble import RandomForestClassifier\n",
    "\n",
    "model2 = RandomForestClassifier(random_state=5)\n",
    "model2.fit(X_resampled, y_resampled)\n",
    "predicted = model2.predict(X_test)\n",
    "print(\"Classification report:\\n\", classification_report(y_test, predicted))\n",
    "conf_mat = confusion_matrix(y_true=y_test, y_pred=predicted)\n",
    "print(\"Confusion matrix:\\n\", conf_mat)\n",
    "print(\"Share of Non-Fraud in Test Data:\", 1 - round(y_test.sum() / len(y_test), 4))"
   ]
  },
  {
   "cell_type": "code",
   "execution_count": 9,
   "id": "afc4b44a",
   "metadata": {},
   "outputs": [],
   "source": [
    "with open(\"model_randforest.pkl\", \"wb\") as file:\n",
    "    pickle.dump(model2, file)"
   ]
  },
  {
   "cell_type": "code",
   "execution_count": 42,
   "id": "850eac73",
   "metadata": {},
   "outputs": [
    {
     "name": "stdout",
     "output_type": "stream",
     "text": [
      "[array([60.05, 32780, 28.5697, -80.8191, 54767, 28.812398, -80.883061, 37,\n",
      "       12, 6, 6, False, False, False, False, False, False, False, False,\n",
      "       True, False, False, False, False], dtype=object), array([105.1, 38922, 33.9215, -89.6782, 3451, 34.826923, -89.560916, 40,\n",
      "       15, 6, 6, False, False, False, False, False, False, True, False,\n",
      "       False, False, False, False, False], dtype=object), array([780.52, 53803, 42.5545, -90.3508, 1306, 42.461127000000005,\n",
      "       -91.147148, 66, 22, 6, 6, False, False, False, False, False, False,\n",
      "       False, True, False, False, False, False, False], dtype=object), array([4.32, 46702, 40.8618, -85.6067, 2304, 40.99301, -85.346478, 69, 1,\n",
      "       0, 6, False, False, False, False, False, False, False, False,\n",
      "       False, False, False, True, False], dtype=object), array([868.09, 38668, 34.6323, -89.8855, 14462, 34.091227, -90.390612, 65,\n",
      "       22, 1, 12, False, False, False, False, False, False, False, False,\n",
      "       False, False, False, True, False], dtype=object)]\n"
     ]
    }
   ],
   "source": [
    "examples = []\n",
    "examples.append(X_test[3])\n",
    "examples.append(X_test[553])\n",
    "examples.append(X_test[1767])\n",
    "examples.append(X_test[2225])\n",
    "examples.append(X_test[517274])\n",
    "print(examples)\n"
   ]
  },
  {
   "cell_type": "code",
   "execution_count": 43,
   "id": "f1f07ef4",
   "metadata": {},
   "outputs": [],
   "source": [
    "import pickle as pkl\n",
    "\n",
    "with open(\"testset.pkl\", \"wb\") as file:\n",
    "    pkl.dump(examples, file)\n"
   ]
  },
  {
   "cell_type": "code",
   "execution_count": null,
   "id": "7dfc7628",
   "metadata": {},
   "outputs": [],
   "source": []
  }
 ],
 "metadata": {
  "kernelspec": {
   "display_name": "Python 3",
   "language": "python",
   "name": "python3"
  },
  "language_info": {
   "codemirror_mode": {
    "name": "ipython",
    "version": 3
   },
   "file_extension": ".py",
   "mimetype": "text/x-python",
   "name": "python",
   "nbconvert_exporter": "python",
   "pygments_lexer": "ipython3",
   "version": "3.11.5"
  },
  "papermill": {
   "default_parameters": {},
   "duration": 890.627284,
   "end_time": "2022-07-17T05:33:25.241237",
   "environment_variables": {},
   "exception": null,
   "input_path": "__notebook__.ipynb",
   "output_path": "__notebook__.ipynb",
   "parameters": {},
   "start_time": "2022-07-17T05:18:34.613953",
   "version": "2.3.4"
  }
 },
 "nbformat": 4,
 "nbformat_minor": 5
}
